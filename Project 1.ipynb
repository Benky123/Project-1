{
 "cells": [
  {
   "cell_type": "markdown",
   "metadata": {},
   "source": [
    "# Section 1 Business Understanding\n",
    "\n",
    "The analysis below is assuming that Ben wants to open a liquor store with limited budget, so he wants to determine its first store location and what to sell. \n",
    "\n",
    "Question 1: Which states have the highest alcohol consumption per capita? \n",
    "\n",
    "Question 2: Which state has the highest alcohol consumption growth from 2014 to 20216?\n",
    "\n",
    "Question 3: What is the relationship amount beer, wine, and spirts consumption?"
   ]
  },
  {
   "cell_type": "markdown",
   "metadata": {},
   "source": [
    "# Section 2 Data Understanding"
   ]
  },
  {
   "cell_type": "code",
   "execution_count": 1,
   "metadata": {},
   "outputs": [],
   "source": [
    "import numpy as np\n",
    "import pandas as pd\n",
    "import matplotlib.pyplot as plt\n",
    "from sklearn.linear_model import LinearRegression\n",
    "from sklearn.model_selection import train_test_split\n",
    "from sklearn.metrics import r2_score\n",
    "import seaborn as sns\n",
    "%matplotlib inline"
   ]
  },
  {
   "cell_type": "markdown",
   "metadata": {},
   "source": [
    "Gather Data"
   ]
  },
  {
   "cell_type": "code",
   "execution_count": 2,
   "metadata": {},
   "outputs": [],
   "source": [
    "df = pd.read_csv('Alcohol_Consumption_US.csv')"
   ]
  },
  {
   "cell_type": "markdown",
   "metadata": {},
   "source": [
    "Assess Data"
   ]
  },
  {
   "cell_type": "code",
   "execution_count": 3,
   "metadata": {},
   "outputs": [
    {
     "data": {
      "text/html": [
       "<div>\n",
       "<style scoped>\n",
       "    .dataframe tbody tr th:only-of-type {\n",
       "        vertical-align: middle;\n",
       "    }\n",
       "\n",
       "    .dataframe tbody tr th {\n",
       "        vertical-align: top;\n",
       "    }\n",
       "\n",
       "    .dataframe thead th {\n",
       "        text-align: right;\n",
       "    }\n",
       "</style>\n",
       "<table border=\"1\" class=\"dataframe\">\n",
       "  <thead>\n",
       "    <tr style=\"text-align: right;\">\n",
       "      <th></th>\n",
       "      <th>State</th>\n",
       "      <th>State_abbrev</th>\n",
       "      <th>Year</th>\n",
       "      <th>Beer (Per capita consumption)</th>\n",
       "      <th>Wine (Per capita consumption)</th>\n",
       "      <th>Spirits (Per capita consumption)</th>\n",
       "      <th>All beverages (Per capita consumption)</th>\n",
       "    </tr>\n",
       "  </thead>\n",
       "  <tbody>\n",
       "    <tr>\n",
       "      <th>0</th>\n",
       "      <td>Alabama</td>\n",
       "      <td>AL</td>\n",
       "      <td>2016</td>\n",
       "      <td>1.09</td>\n",
       "      <td>0.26</td>\n",
       "      <td>0.65</td>\n",
       "      <td>2.01</td>\n",
       "    </tr>\n",
       "    <tr>\n",
       "      <th>1</th>\n",
       "      <td>Alabama</td>\n",
       "      <td>AL</td>\n",
       "      <td>2015</td>\n",
       "      <td>1.11</td>\n",
       "      <td>0.26</td>\n",
       "      <td>0.64</td>\n",
       "      <td>2.01</td>\n",
       "    </tr>\n",
       "    <tr>\n",
       "      <th>2</th>\n",
       "      <td>Alabama</td>\n",
       "      <td>AL</td>\n",
       "      <td>2014</td>\n",
       "      <td>1.13</td>\n",
       "      <td>0.25</td>\n",
       "      <td>0.62</td>\n",
       "      <td>2.00</td>\n",
       "    </tr>\n",
       "    <tr>\n",
       "      <th>3</th>\n",
       "      <td>Alabama</td>\n",
       "      <td>AL</td>\n",
       "      <td>2013</td>\n",
       "      <td>1.14</td>\n",
       "      <td>0.25</td>\n",
       "      <td>0.60</td>\n",
       "      <td>1.99</td>\n",
       "    </tr>\n",
       "    <tr>\n",
       "      <th>4</th>\n",
       "      <td>Alabama</td>\n",
       "      <td>AL</td>\n",
       "      <td>2012</td>\n",
       "      <td>1.16</td>\n",
       "      <td>0.24</td>\n",
       "      <td>0.60</td>\n",
       "      <td>2.00</td>\n",
       "    </tr>\n",
       "  </tbody>\n",
       "</table>\n",
       "</div>"
      ],
      "text/plain": [
       "     State State_abbrev  Year  Beer (Per capita consumption)  \\\n",
       "0  Alabama           AL  2016                           1.09   \n",
       "1  Alabama           AL  2015                           1.11   \n",
       "2  Alabama           AL  2014                           1.13   \n",
       "3  Alabama           AL  2013                           1.14   \n",
       "4  Alabama           AL  2012                           1.16   \n",
       "\n",
       "   Wine (Per capita consumption)  Spirits (Per capita consumption)  \\\n",
       "0                           0.26                              0.65   \n",
       "1                           0.26                              0.64   \n",
       "2                           0.25                              0.62   \n",
       "3                           0.25                              0.60   \n",
       "4                           0.24                              0.60   \n",
       "\n",
       "   All beverages (Per capita consumption)  \n",
       "0                                    2.01  \n",
       "1                                    2.01  \n",
       "2                                    2.00  \n",
       "3                                    1.99  \n",
       "4                                    2.00  "
      ]
     },
     "execution_count": 3,
     "metadata": {},
     "output_type": "execute_result"
    }
   ],
   "source": [
    "df.head()"
   ]
  },
  {
   "cell_type": "code",
   "execution_count": 4,
   "metadata": {},
   "outputs": [
    {
     "name": "stdout",
     "output_type": "stream",
     "text": [
      "The shape of the dateset is : (2040, 7).\n",
      "\n",
      "The descrition of the dateset set:               Year  Beer (Per capita consumption)  \\\n",
      "count  2040.000000                    2040.000000   \n",
      "mean   1996.500000                       1.292020   \n",
      "std      11.546227                       0.234227   \n",
      "min    1977.000000                       0.630000   \n",
      "25%    1986.750000                       1.130000   \n",
      "50%    1996.500000                       1.280000   \n",
      "75%    2006.250000                       1.420000   \n",
      "max    2016.000000                       2.170000   \n",
      "\n",
      "       Wine (Per capita consumption)  Spirits (Per capita consumption)  \\\n",
      "count                    2040.000000                       2040.000000   \n",
      "mean                        0.339324                          0.851485   \n",
      "std                         0.184980                          0.362751   \n",
      "min                         0.080000                          0.360000   \n",
      "25%                         0.200000                          0.630000   \n",
      "50%                         0.300000                          0.770000   \n",
      "75%                         0.450000                          0.960000   \n",
      "max                         1.190000                          3.560000   \n",
      "\n",
      "       All beverages (Per capita consumption)  \n",
      "count                             2040.000000  \n",
      "mean                                 2.483176  \n",
      "std                                  0.637313  \n",
      "min                                  1.190000  \n",
      "25%                                  2.090000  \n",
      "50%                                  2.370000  \n",
      "75%                                  2.710000  \n",
      "max                                  6.320000  \n",
      "\n"
     ]
    }
   ],
   "source": [
    "print(\"The shape of the dateset is : {}.\\n\".format(df.shape))\n",
    "\n",
    "print(\"The descrition of the dateset set: {}\\n\".format(df.describe()))"
   ]
  },
  {
   "cell_type": "markdown",
   "metadata": {},
   "source": [
    "As the dataset contains alcohol consumption date between 1977 and 2016, the analysis mainly uses the date between 2014 and 2016. Becuase the dataset is small, although most of analysis will be using 2014 to 2016 data, it is no need to get rid of data prior to 2014. Also, because 'State' and 'State_abbrev' are overlap, \"State\" will be removed in the cleaning data process."
   ]
  },
  {
   "cell_type": "markdown",
   "metadata": {},
   "source": [
    "# Section 3 Data Preparation"
   ]
  },
  {
   "cell_type": "markdown",
   "metadata": {},
   "source": [
    "Clean Data - Identify and eliminate any missing values"
   ]
  },
  {
   "cell_type": "code",
   "execution_count": 5,
   "metadata": {},
   "outputs": [
    {
     "name": "stdout",
     "output_type": "stream",
     "text": [
      "The porportion of missing value in the dataset: \n",
      " State                                     0.0\n",
      "State_abbrev                              0.0\n",
      "Year                                      0.0\n",
      "Beer (Per capita consumption)             0.0\n",
      "Wine (Per capita consumption)             0.0\n",
      "Spirits (Per capita consumption)          0.0\n",
      "All beverages (Per capita consumption)    0.0\n",
      "dtype: float64.\n"
     ]
    }
   ],
   "source": [
    "print(\"The porportion of missing value in the dataset: \\n {}.\".format(df.isnull().mean()))"
   ]
  },
  {
   "cell_type": "markdown",
   "metadata": {},
   "source": [
    "There is no missing value so no further procedrues is performed."
   ]
  },
  {
   "cell_type": "markdown",
   "metadata": {},
   "source": [
    "Clean Data - Remove unnecessary column "
   ]
  },
  {
   "cell_type": "code",
   "execution_count": 6,
   "metadata": {},
   "outputs": [],
   "source": [
    "df.drop(['State'],axis=1,inplace=True)"
   ]
  },
  {
   "cell_type": "code",
   "execution_count": 7,
   "metadata": {},
   "outputs": [
    {
     "data": {
      "text/html": [
       "<div>\n",
       "<style scoped>\n",
       "    .dataframe tbody tr th:only-of-type {\n",
       "        vertical-align: middle;\n",
       "    }\n",
       "\n",
       "    .dataframe tbody tr th {\n",
       "        vertical-align: top;\n",
       "    }\n",
       "\n",
       "    .dataframe thead th {\n",
       "        text-align: right;\n",
       "    }\n",
       "</style>\n",
       "<table border=\"1\" class=\"dataframe\">\n",
       "  <thead>\n",
       "    <tr style=\"text-align: right;\">\n",
       "      <th></th>\n",
       "      <th>State_abbrev</th>\n",
       "      <th>Year</th>\n",
       "      <th>Beer (Per capita consumption)</th>\n",
       "      <th>Wine (Per capita consumption)</th>\n",
       "      <th>Spirits (Per capita consumption)</th>\n",
       "      <th>All beverages (Per capita consumption)</th>\n",
       "    </tr>\n",
       "  </thead>\n",
       "  <tbody>\n",
       "    <tr>\n",
       "      <th>0</th>\n",
       "      <td>AL</td>\n",
       "      <td>2016</td>\n",
       "      <td>1.09</td>\n",
       "      <td>0.26</td>\n",
       "      <td>0.65</td>\n",
       "      <td>2.01</td>\n",
       "    </tr>\n",
       "    <tr>\n",
       "      <th>1</th>\n",
       "      <td>AL</td>\n",
       "      <td>2015</td>\n",
       "      <td>1.11</td>\n",
       "      <td>0.26</td>\n",
       "      <td>0.64</td>\n",
       "      <td>2.01</td>\n",
       "    </tr>\n",
       "    <tr>\n",
       "      <th>2</th>\n",
       "      <td>AL</td>\n",
       "      <td>2014</td>\n",
       "      <td>1.13</td>\n",
       "      <td>0.25</td>\n",
       "      <td>0.62</td>\n",
       "      <td>2.00</td>\n",
       "    </tr>\n",
       "    <tr>\n",
       "      <th>3</th>\n",
       "      <td>AL</td>\n",
       "      <td>2013</td>\n",
       "      <td>1.14</td>\n",
       "      <td>0.25</td>\n",
       "      <td>0.60</td>\n",
       "      <td>1.99</td>\n",
       "    </tr>\n",
       "    <tr>\n",
       "      <th>4</th>\n",
       "      <td>AL</td>\n",
       "      <td>2012</td>\n",
       "      <td>1.16</td>\n",
       "      <td>0.24</td>\n",
       "      <td>0.60</td>\n",
       "      <td>2.00</td>\n",
       "    </tr>\n",
       "  </tbody>\n",
       "</table>\n",
       "</div>"
      ],
      "text/plain": [
       "  State_abbrev  Year  Beer (Per capita consumption)  \\\n",
       "0           AL  2016                           1.09   \n",
       "1           AL  2015                           1.11   \n",
       "2           AL  2014                           1.13   \n",
       "3           AL  2013                           1.14   \n",
       "4           AL  2012                           1.16   \n",
       "\n",
       "   Wine (Per capita consumption)  Spirits (Per capita consumption)  \\\n",
       "0                           0.26                              0.65   \n",
       "1                           0.26                              0.64   \n",
       "2                           0.25                              0.62   \n",
       "3                           0.25                              0.60   \n",
       "4                           0.24                              0.60   \n",
       "\n",
       "   All beverages (Per capita consumption)  \n",
       "0                                    2.01  \n",
       "1                                    2.01  \n",
       "2                                    2.00  \n",
       "3                                    1.99  \n",
       "4                                    2.00  "
      ]
     },
     "execution_count": 7,
     "metadata": {},
     "output_type": "execute_result"
    }
   ],
   "source": [
    "df.head()"
   ]
  },
  {
   "cell_type": "markdown",
   "metadata": {},
   "source": [
    "# Section 4 Evaluate the Results"
   ]
  },
  {
   "cell_type": "markdown",
   "metadata": {},
   "source": [
    "Analyze Data"
   ]
  },
  {
   "cell_type": "markdown",
   "metadata": {},
   "source": [
    "Question 1: Which states have the highest alcohol consumption per capita?"
   ]
  },
  {
   "cell_type": "markdown",
   "metadata": {},
   "source": [
    "Part 1. Which states have the highest alcohol consumption per capita between 2014 and 2016?"
   ]
  },
  {
   "cell_type": "code",
   "execution_count": 8,
   "metadata": {},
   "outputs": [],
   "source": [
    "# to define a reusable functin to answer the question for each type of alcohol.\n",
    "def highest_consumption (name='All beverages (Per capita consumption)', year=2016): \n",
    "    '''\n",
    "    This function provdies the result of which state has the highest consumtion on what type of alcohol in which year.\n",
    "    The default value is calculating the overall alcohol consumption in 2016.\n",
    "    \n",
    "    Input:\n",
    "    name (e.g., Beer (Per capita consumption), Wine (Per capita consumption), Spirits (Per capita consumption))\n",
    "    year (e.g., 1977 to 2016)\n",
    "    \n",
    "    Output:\n",
    "    generate the result of in which year, which state is the highest consumtion state on that specific type of alcohol \n",
    "    and the relevant number of Per capita consumption.\n",
    "    '''\n",
    "    print(\"In {}, {} is the highest {} consumption state and the number of Per capita consumption is {}\".\n",
    "          format(year, df[df['Year']==year][['State_abbrev',name]].max()[0],name, \n",
    "          df[df['Year']==year][['State_abbrev',name]].max()[1],))"
   ]
  },
  {
   "cell_type": "markdown",
   "metadata": {},
   "source": [
    "a. Which states have the highest beer consumption per capita between 2014 and 2016?"
   ]
  },
  {
   "cell_type": "code",
   "execution_count": 9,
   "metadata": {},
   "outputs": [
    {
     "name": "stdout",
     "output_type": "stream",
     "text": [
      "In 2014, WY is the highest Beer (Per capita consumption) consumption state and the number of Per capita consumption is 1.69\n",
      "None\n",
      "In 2015, WY is the highest Beer (Per capita consumption) consumption state and the number of Per capita consumption is 1.88\n",
      "None\n",
      "In 2016, WY is the highest Beer (Per capita consumption) consumption state and the number of Per capita consumption is 1.87\n",
      "None\n"
     ]
    }
   ],
   "source": [
    "for year in range(2014,2017,1):\n",
    "    print (highest_consumption('Beer (Per capita consumption)',year))"
   ]
  },
  {
   "cell_type": "markdown",
   "metadata": {},
   "source": [
    "b. Which states have the highest wine consumption per capita between 2014 and 2016?"
   ]
  },
  {
   "cell_type": "code",
   "execution_count": 10,
   "metadata": {},
   "outputs": [
    {
     "name": "stdout",
     "output_type": "stream",
     "text": [
      "In 2014, WY is the highest Wine (Per capita consumption) consumption state and the number of Per capita consumption is 1.12\n",
      "None\n",
      "In 2015, WY is the highest Wine (Per capita consumption) consumption state and the number of Per capita consumption is 1.14\n",
      "None\n",
      "In 2016, WY is the highest Wine (Per capita consumption) consumption state and the number of Per capita consumption is 1.19\n",
      "None\n"
     ]
    }
   ],
   "source": [
    "for year in range(2014,2017,1):\n",
    "    print (highest_consumption('Wine (Per capita consumption)',year))"
   ]
  },
  {
   "cell_type": "markdown",
   "metadata": {},
   "source": [
    "c. Which states have the highest spirits consumption per capita between 2014 and 2016?"
   ]
  },
  {
   "cell_type": "code",
   "execution_count": 11,
   "metadata": {},
   "outputs": [
    {
     "name": "stdout",
     "output_type": "stream",
     "text": [
      "In 2014, WY is the highest Spirits (Per capita consumption) consumption state and the number of Per capita consumption is 1.96\n",
      "None\n",
      "In 2015, WY is the highest Spirits (Per capita consumption) consumption state and the number of Per capita consumption is 1.96\n",
      "None\n",
      "In 2016, WY is the highest Spirits (Per capita consumption) consumption state and the number of Per capita consumption is 2.0\n",
      "None\n"
     ]
    }
   ],
   "source": [
    "for year in range(2014,2017,1):\n",
    "    print (highest_consumption('Spirits (Per capita consumption)',year))"
   ]
  },
  {
   "cell_type": "markdown",
   "metadata": {},
   "source": [
    "d. Which states have the highest overall alcohol consumption per capita between 2014 and 2016?"
   ]
  },
  {
   "cell_type": "code",
   "execution_count": 12,
   "metadata": {},
   "outputs": [
    {
     "name": "stdout",
     "output_type": "stream",
     "text": [
      "In 2014, WY is the highest All beverages (Per capita consumption) consumption state and the number of Per capita consumption is 4.54\n",
      "None\n",
      "In 2015, WY is the highest All beverages (Per capita consumption) consumption state and the number of Per capita consumption is 4.72\n",
      "None\n",
      "In 2016, WY is the highest All beverages (Per capita consumption) consumption state and the number of Per capita consumption is 4.76\n",
      "None\n"
     ]
    }
   ],
   "source": [
    "for year in range(2014,2017,1):\n",
    "    print (highest_consumption('All beverages (Per capita consumption)',year))"
   ]
  },
  {
   "cell_type": "markdown",
   "metadata": {},
   "source": [
    "Based on the result, WY is the highest alcohol consumption state including beer, wine and spirits between 2014 and 2016. Therefore, WY will be the potential location for Ben to open the liquid store but also need to consider the growth potention, which will be analyzed in the next part."
   ]
  },
  {
   "cell_type": "markdown",
   "metadata": {},
   "source": [
    "Question 2: Which state has the highest alcohol comsumption growth from 2014 to 20216?"
   ]
  },
  {
   "cell_type": "markdown",
   "metadata": {},
   "source": [
    "Part 2. Which state has the highest alcohol comsumption growth from 2014 to 20216?"
   ]
  },
  {
   "cell_type": "code",
   "execution_count": 13,
   "metadata": {},
   "outputs": [],
   "source": [
    "# to define a reusable functin to answer the question for each type of alcohol.\n",
    "def highest_growth (name='All beverages (Per capita consumption)'):\n",
    "    '''\n",
    "    This function provdies the result of which state has the highest alcohol consumtion growth of each type of alcohol from 2014 to 2016.\n",
    "    The default value is calculating the overall alcohol consumption.\n",
    "    \n",
    "    Input:\n",
    "    name (i.e., Beer (Per capita consumption), Wine (Per capita consumption), Spirits (Per capita consumption), All beverages (Per capita consumption))\n",
    "    \n",
    "    Output:\n",
    "    generate the result of which state has the highest alcohol consumtion growth of the specific type of alcohol from 2014 to 2016.\n",
    "    '''\n",
    "    df_2014=df[df['Year']==2014][['State_abbrev',name]].reset_index()\n",
    "    df_2014.pop('index')\n",
    "    df_2014.rename(columns={name:'2014 {}'.format(name)},inplace=True)\n",
    "    df_2015=df[df['Year']==2015][[name]].reset_index()\n",
    "    df_2015.pop('index')\n",
    "    df_2015.rename(columns={name:'2015 {}'.format(name)},inplace=True)\n",
    "    df_2016=df[df['Year']==2016][[name]].reset_index()\n",
    "    df_2016.pop('index')\n",
    "    df_2016.rename(columns={name:'2016 {}'.format(name)},inplace=True)\n",
    "    df_growth=pd.concat([df_2014,df_2015,df_2016],axis=1,join='inner')\n",
    "    df_growth['2014_2016_Growth']=(df_growth['2016 {}'.format(name)]-df_growth['2014 {}'.format(name)])/df_growth['2014 {}'.format(name)]\n",
    "    return df_growth.sort_values(by=['2014_2016_Growth'],ascending=False).iloc[0]"
   ]
  },
  {
   "cell_type": "markdown",
   "metadata": {},
   "source": [
    "a. Which states have the highest beer consumption growth from 2014 and 2016 and what is the growth number?"
   ]
  },
  {
   "cell_type": "code",
   "execution_count": 14,
   "metadata": {},
   "outputs": [
    {
     "data": {
      "text/plain": [
       "State_abbrev                                NH\n",
       "2014 Beer (Per capita consumption)        1.69\n",
       "2015 Beer (Per capita consumption)        1.88\n",
       "2016 Beer (Per capita consumption)        1.87\n",
       "2014_2016_Growth                      0.106509\n",
       "Name: 29, dtype: object"
      ]
     },
     "execution_count": 14,
     "metadata": {},
     "output_type": "execute_result"
    }
   ],
   "source": [
    "highest_growth('Beer (Per capita consumption)')"
   ]
  },
  {
   "cell_type": "markdown",
   "metadata": {},
   "source": [
    "b. Which states have the highest wine consumption growth from 2014 and 2016 and what is the growth number?"
   ]
  },
  {
   "cell_type": "code",
   "execution_count": 15,
   "metadata": {},
   "outputs": [
    {
     "data": {
      "text/plain": [
       "State_abbrev                            TN\n",
       "2014 Wine (Per capita consumption)    0.25\n",
       "2015 Wine (Per capita consumption)    0.27\n",
       "2016 Wine (Per capita consumption)    0.33\n",
       "2014_2016_Growth                      0.32\n",
       "Name: 42, dtype: object"
      ]
     },
     "execution_count": 15,
     "metadata": {},
     "output_type": "execute_result"
    }
   ],
   "source": [
    "highest_growth('Wine (Per capita consumption)')"
   ]
  },
  {
   "cell_type": "markdown",
   "metadata": {},
   "source": [
    "c. Which states have the highest spirits consumption growth from 2014 and 2016 and what is the growth number?"
   ]
  },
  {
   "cell_type": "code",
   "execution_count": 16,
   "metadata": {},
   "outputs": [
    {
     "data": {
      "text/plain": [
       "State_abbrev                                  RI\n",
       "2014 Spirits (Per capita consumption)       0.86\n",
       "2015 Spirits (Per capita consumption)       0.99\n",
       "2016 Spirits (Per capita consumption)       1.05\n",
       "2014_2016_Growth                         0.22093\n",
       "Name: 39, dtype: object"
      ]
     },
     "execution_count": 16,
     "metadata": {},
     "output_type": "execute_result"
    }
   ],
   "source": [
    "highest_growth('Spirits (Per capita consumption)')"
   ]
  },
  {
   "cell_type": "markdown",
   "metadata": {},
   "source": [
    "Based on the result above, NH has the highest growth of beer consumption from 2014 to 2016 and the number is 10.65%; TN has the highest growth of wine consumption from 2014 to 2016 and the number is 0.32%; RI has the highest growth of spirits consumption from 2014 to 2016 and the number is 22.09%."
   ]
  },
  {
   "cell_type": "markdown",
   "metadata": {},
   "source": [
    "Part 4. What is the growth in the state which has the highest alcohol consumption between 2014 and 2016?"
   ]
  },
  {
   "cell_type": "code",
   "execution_count": 17,
   "metadata": {},
   "outputs": [
    {
     "name": "stdout",
     "output_type": "stream",
     "text": [
      "growth of beer in WY is: 0.10650887573964507\n",
      "growth of wine in WY is: 0.062499999999999854\n",
      "growth of spirits in WY is: 0.02040816326530614\n"
     ]
    }
   ],
   "source": [
    "#3 to analyze the growth in WY with the number in part 1 analysis\n",
    "print('growth of beer in WY is:',str((1.87-1.69)/1.69))\n",
    "\n",
    "print('growth of wine in WY is:',str((1.19-1.12)/1.12))\n",
    "\n",
    "print('growth of spirits in WY is:',str((2-1.96)/1.96))"
   ]
  },
  {
   "cell_type": "markdown",
   "metadata": {},
   "source": [
    "Based on the result above, WY growth of beer consumption is near the highest growth in NH, and other two types has much lower growth number. It indicates that regarding the beer consumption, WY is not only the highest consumption State but also remain highest growth there. Therefore, if opening a liquid store in WY, it is better to focus on selling beer. To make a better decision, the relationsihp among among beer, wine,  and spirts comsumption is analyzed in next part."
   ]
  },
  {
   "cell_type": "markdown",
   "metadata": {},
   "source": [
    "Question 3: What is the relationship amount beer, wine, and spirts comsumption?"
   ]
  },
  {
   "cell_type": "markdown",
   "metadata": {},
   "source": [
    "Part 5. What is the relationship among beer, wine,  and spirts comsumption?"
   ]
  },
  {
   "cell_type": "code",
   "execution_count": 18,
   "metadata": {},
   "outputs": [
    {
     "name": "stdout",
     "output_type": "stream",
     "text": [
      "   Beer (Per capita consumption)  Wine (Per capita consumption)  \\\n",
      "0                           1.09                           0.26   \n",
      "1                           1.11                           0.26   \n",
      "2                           1.13                           0.25   \n",
      "3                           1.14                           0.25   \n",
      "4                           1.16                           0.24   \n",
      "\n",
      "   Spirits (Per capita consumption)  \n",
      "0                              0.65  \n",
      "1                              0.64  \n",
      "2                              0.62  \n",
      "3                              0.60  \n",
      "4                              0.60  \n"
     ]
    }
   ],
   "source": [
    "# to analyze the relationship among beer, wine,  and spirts comsumption, it is better to generate a new dataframe to only contain these three elements\n",
    "\n",
    "df2 = df[['Beer (Per capita consumption)','Wine (Per capita consumption)','Spirits (Per capita consumption)']]\n",
    "print(df2.head())"
   ]
  },
  {
   "cell_type": "code",
   "execution_count": 19,
   "metadata": {},
   "outputs": [
    {
     "data": {
      "text/plain": [
       "<AxesSubplot:>"
      ]
     },
     "execution_count": 19,
     "metadata": {},
     "output_type": "execute_result"
    },
    {
     "data": {
      "image/png": "[encoded data removed]",
      "text/plain": [
       "<Figure size 432x288 with 2 Axes>"
      ]
     },
     "metadata": {
      "needs_background": "light"
     },
     "output_type": "display_data"
    }
   ],
   "source": [
    "# to generate a heatmap to briefly understand the relationship amoong beer, wine, and spirts comsumption\n",
    "sns.heatmap(df2.corr())"
   ]
  },
  {
   "cell_type": "markdown",
   "metadata": {},
   "source": [
    "Basd on the heatmap, beer consumption seems like has no impact from/on wine consumption, but has slight impact with spirits but it is unclear. To obtain a better understanding about the relationship among them, LinearRegression will be used below."
   ]
  },
  {
   "cell_type": "code",
   "execution_count": 20,
   "metadata": {},
   "outputs": [
    {
     "data": {
      "text/plain": [
       "0.544017693256152"
      ]
     },
     "execution_count": 20,
     "metadata": {},
     "output_type": "execute_result"
    }
   ],
   "source": [
    "# set spirits as Y because the relationship between beer and spirits is unclear but wine and spirits has position relationship accoridng to the heatmap above.\n",
    "X = df2.drop(['Spirits (Per capita consumption)'],axis=1)\n",
    "Y = df2['Spirits (Per capita consumption)']\n",
    "train_X, valid_X, train_y, valid_y = train_test_split(X, Y, test_size=0.4, random_state=1)\n",
    "lm_model = LinearRegression(normalize=True)\n",
    "lm_model.fit(train_X, train_y)\n",
    "y_test_preds=lm_model.predict(valid_X)\n",
    "r2_score(valid_y, y_test_preds)"
   ]
  },
  {
   "cell_type": "code",
   "execution_count": 21,
   "metadata": {
    "scrolled": true
   },
   "outputs": [
    {
     "data": {
      "text/plain": [
       "<matplotlib.collections.PathCollection at 0x246733d7b50>"
      ]
     },
     "execution_count": 21,
     "metadata": {},
     "output_type": "execute_result"
    },
    {
     "data": {
      "image/png": "[encoded data removed]",
      "text/plain": [
       "<Figure size 432x288 with 1 Axes>"
      ]
     },
     "metadata": {
      "needs_background": "light"
     },
     "output_type": "display_data"
    }
   ],
   "source": [
    "plt.scatter(valid_y,y_test_preds)"
   ]
  },
  {
   "cell_type": "code",
   "execution_count": 22,
   "metadata": {},
   "outputs": [
    {
     "data": {
      "text/html": [
       "<div>\n",
       "<style scoped>\n",
       "    .dataframe tbody tr th:only-of-type {\n",
       "        vertical-align: middle;\n",
       "    }\n",
       "\n",
       "    .dataframe tbody tr th {\n",
       "        vertical-align: top;\n",
       "    }\n",
       "\n",
       "    .dataframe thead th {\n",
       "        text-align: right;\n",
       "    }\n",
       "</style>\n",
       "<table border=\"1\" class=\"dataframe\">\n",
       "  <thead>\n",
       "    <tr style=\"text-align: right;\">\n",
       "      <th></th>\n",
       "      <th>Coefficient</th>\n",
       "    </tr>\n",
       "  </thead>\n",
       "  <tbody>\n",
       "    <tr>\n",
       "      <th>Beer (Per capita consumption)</th>\n",
       "      <td>0.629238</td>\n",
       "    </tr>\n",
       "    <tr>\n",
       "      <th>Wine (Per capita consumption)</th>\n",
       "      <td>1.082361</td>\n",
       "    </tr>\n",
       "  </tbody>\n",
       "</table>\n",
       "</div>"
      ],
      "text/plain": [
       "                               Coefficient\n",
       "Beer (Per capita consumption)     0.629238\n",
       "Wine (Per capita consumption)     1.082361"
      ]
     },
     "execution_count": 22,
     "metadata": {},
     "output_type": "execute_result"
    }
   ],
   "source": [
    "coeff_df = pd.DataFrame(lm_model.coef_,X.columns,columns=['Coefficient'])\n",
    "coeff_df"
   ]
  },
  {
   "cell_type": "markdown",
   "metadata": {},
   "source": [
    "Based on the results above, r2_score indicates the model is not good fit, but the scatter graph concentrate results together, and the model is not mainly used for predcition so the model is acceptable. Also, based on the coefficient number, it seems like the relatinoship between beer and spirits is insignficiant and approves that wine and spirits has better relastionship. It indicates that beer consumption has no impact from/on wine and spirits consumption, but wine and spirits has positive impact between each other."
   ]
  },
  {
   "cell_type": "markdown",
   "metadata": {},
   "source": [
    "# Conclusion\n",
    "\n",
    "Based on the overall analysis above, Ben should open his liquid store in WY and focus on selling beer."
   ]
  }
 ],
 "metadata": {
  "kernelspec": {
   "display_name": "Python 3",
   "language": "python",
   "name": "python3"
  },
  "language_info": {
   "codemirror_mode": {
    "name": "ipython",
    "version": 3
   },
   "file_extension": ".py",
   "mimetype": "text/x-python",
   "name": "python",
   "nbconvert_exporter": "python",
   "pygments_lexer": "ipython3",
   "version": "3.8.5"
  }
 },
 "nbformat": 4,
 "nbformat_minor": 4
}
